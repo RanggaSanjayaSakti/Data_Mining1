{
  "nbformat": 4,
  "nbformat_minor": 0,
  "metadata": {
    "colab": {
      "provenance": [],
      "authorship_tag": "ABX9TyOcRcftzFXzZ65GrdB0ZzIq",
      "include_colab_link": true
    },
    "kernelspec": {
      "name": "python3",
      "display_name": "Python 3"
    },
    "language_info": {
      "name": "python"
    }
  },
  "cells": [
    {
      "cell_type": "markdown",
      "metadata": {
        "id": "view-in-github",
        "colab_type": "text"
      },
      "source": [
        "<a href=\"https://colab.research.google.com/github/RanggaSanjayaSakti/Data_Mining1/blob/main/RedWineQuality.ipynb\" target=\"_parent\"><img src=\"https://colab.research.google.com/assets/colab-badge.svg\" alt=\"Open In Colab\"/></a>"
      ]
    },
    {
      "cell_type": "code",
      "execution_count": null,
      "metadata": {
        "id": "w1TPTrnyTBVW"
      },
      "outputs": [],
      "source": []
    },
    {
      "cell_type": "markdown",
      "source": [
        "# Red Wine Quality Dataset\n",
        "## Business Understanding\n",
        "### Business objective\n",
        "\n",
        "jadi tujuan bisnis dari dataset ini adalah untuk menganalisis dataset yang dapat membantu produsen red wine untuk memahami faktor-faktor apa saja yang berkontribusi terhadap kualitas red wine sehingga dapat membuat perubahan yang di perlukan untuk meningkatkan kualitas produk.\n",
        "\n",
        "### Assess situation\n",
        "\n",
        "Situasi bisnis yang mendasari analisis ini adalah banyaknya para kompetitor yang bersaing dalam meningkatkan pasar dan dalam meningkatkan kualitas yang lebih baik untuk menarik minat konsumen.\n",
        "\n",
        "### Tujuan data mining\n",
        "\n",
        "Tujuan data mining dari dataset red wine quality adalah untuk mengeksplorasi dan mengekstrak pola atau informasi berharga yang tersembunyi dalam data tersebut, dan juga untuk mengoptimasi produksi yaitu menggunakan data untuk mengoptimalkan parameter produksi guna meningkatkan kualitas dan mengurangi variasi dalam hasil red wine, lalu untuk mengidentifikasi tren pasar yaitu untuk menjelajahi data untuk mengidentifikasi tren pasar dan preferensi konsumen yang dapat memberikan keunggulan kompetitif.\n",
        "\n",
        "### Rencana proyek\n",
        "\n",
        "Jadi tahapan tahapan yang dilakukan adalah\n",
        "1. melakukan analisis eksploratif data yaitu melakukan EDA pada dataset red wine quality untuk memahami distribusi fitur, korelasi antar variabel, dll.\n",
        "2. identifikasi faktor kualitas utama yaitu menggunakan teknik data mining untuk menentukan faktor-faktor kunci yang memengaruhi kualitas red wine.\n",
        "3. segmentasi pasar yaitu mengidentifikasi segmen pasar yang memiliki preferensi kualitas tertentu.\n",
        "4. optimasi produk yaitu menggunakan hasil analisis data untuk mengoptimalkan parameter-produksi guna mencapai konsistensi kualitas dan mengurangi variasi hasil anggur.\n",
        "5. Strategi Pemasaran: Berdasarkan hasil analisis data, susun strategi pemasaran yang dapat menonjolkan keunggulan produk dan menarik segmen pasar yang diidentifikasi.\n",
        "\n",
        "\n",
        "\n"
      ],
      "metadata": {
        "id": "nOtYEu4yTCJC"
      }
    },
    {
      "cell_type": "markdown",
      "source": [],
      "metadata": {
        "id": "2skzO0nJlRX0"
      }
    }
  ]
}